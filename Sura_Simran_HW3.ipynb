{
 "cells": [
  {
   "cell_type": "code",
   "execution_count": 1,
   "id": "797c4739",
   "metadata": {},
   "outputs": [],
   "source": [
    "import numpy as np\n",
    "import pandas as pd\n",
    "import matplotlib.pyplot as plt\n"
   ]
  },
  {
   "cell_type": "code",
   "execution_count": 2,
   "id": "e5a92f5e",
   "metadata": {},
   "outputs": [],
   "source": [
    "data = pd.read_csv('https://data.illinois.gov/dataset/2c47ae63-3be1-4985-904b-c5e5f4bf79ee/resource/aa78b062-07b2-40b4-8e24-e23778fa2f01/download/data.csv')"
   ]
  },
  {
   "cell_type": "code",
   "execution_count": 3,
   "id": "94f05da5",
   "metadata": {},
   "outputs": [
    {
     "data": {
      "text/html": [
       "<div>\n",
       "<style scoped>\n",
       "    .dataframe tbody tr th:only-of-type {\n",
       "        vertical-align: middle;\n",
       "    }\n",
       "\n",
       "    .dataframe tbody tr th {\n",
       "        vertical-align: top;\n",
       "    }\n",
       "\n",
       "    .dataframe thead th {\n",
       "        text-align: right;\n",
       "    }\n",
       "</style>\n",
       "<table border=\"1\" class=\"dataframe\">\n",
       "  <thead>\n",
       "    <tr style=\"text-align: right;\">\n",
       "      <th></th>\n",
       "      <th>game_name</th>\n",
       "      <th>month</th>\n",
       "      <th>total_ticket_sales</th>\n",
       "      <th>total_ticket_sales_count</th>\n",
       "      <th>year</th>\n",
       "      <th>zip_code</th>\n",
       "    </tr>\n",
       "  </thead>\n",
       "  <tbody>\n",
       "    <tr>\n",
       "      <th>0</th>\n",
       "      <td>Lotto</td>\n",
       "      <td>January</td>\n",
       "      <td>680904.0</td>\n",
       "      <td>169,005</td>\n",
       "      <td>2017</td>\n",
       "      <td>Online</td>\n",
       "    </tr>\n",
       "    <tr>\n",
       "      <th>1</th>\n",
       "      <td>Lucky Day Lotto</td>\n",
       "      <td>January</td>\n",
       "      <td>519490.0</td>\n",
       "      <td>406,786</td>\n",
       "      <td>2017</td>\n",
       "      <td>Online</td>\n",
       "    </tr>\n",
       "    <tr>\n",
       "      <th>2</th>\n",
       "      <td>Mega Millions</td>\n",
       "      <td>January</td>\n",
       "      <td>623048.0</td>\n",
       "      <td>149,777</td>\n",
       "      <td>2017</td>\n",
       "      <td>Online</td>\n",
       "    </tr>\n",
       "    <tr>\n",
       "      <th>3</th>\n",
       "      <td>Pick 3</td>\n",
       "      <td>January</td>\n",
       "      <td>117236.0</td>\n",
       "      <td>7,565</td>\n",
       "      <td>2017</td>\n",
       "      <td>Online</td>\n",
       "    </tr>\n",
       "    <tr>\n",
       "      <th>4</th>\n",
       "      <td>Pick3 Fireball</td>\n",
       "      <td>January</td>\n",
       "      <td>59059.0</td>\n",
       "      <td>3,801</td>\n",
       "      <td>2017</td>\n",
       "      <td>Online</td>\n",
       "    </tr>\n",
       "    <tr>\n",
       "      <th>...</th>\n",
       "      <td>...</td>\n",
       "      <td>...</td>\n",
       "      <td>...</td>\n",
       "      <td>...</td>\n",
       "      <td>...</td>\n",
       "      <td>...</td>\n",
       "    </tr>\n",
       "    <tr>\n",
       "      <th>995</th>\n",
       "      <td>Pick 4</td>\n",
       "      <td>January</td>\n",
       "      <td>94370.5</td>\n",
       "      <td>128,838</td>\n",
       "      <td>2017</td>\n",
       "      <td>60154</td>\n",
       "    </tr>\n",
       "    <tr>\n",
       "      <th>996</th>\n",
       "      <td>Pick4 Fireball</td>\n",
       "      <td>January</td>\n",
       "      <td>32219.5</td>\n",
       "      <td>45,066</td>\n",
       "      <td>2017</td>\n",
       "      <td>60154</td>\n",
       "    </tr>\n",
       "    <tr>\n",
       "      <th>997</th>\n",
       "      <td>Powerball</td>\n",
       "      <td>January</td>\n",
       "      <td>26680.0</td>\n",
       "      <td>6,664</td>\n",
       "      <td>2017</td>\n",
       "      <td>60154</td>\n",
       "    </tr>\n",
       "    <tr>\n",
       "      <th>998</th>\n",
       "      <td>EZ Match</td>\n",
       "      <td>January</td>\n",
       "      <td>1133.0</td>\n",
       "      <td>1,133</td>\n",
       "      <td>2017</td>\n",
       "      <td>60155</td>\n",
       "    </tr>\n",
       "    <tr>\n",
       "      <th>999</th>\n",
       "      <td>Instant Rollup</td>\n",
       "      <td>January</td>\n",
       "      <td>100650.0</td>\n",
       "      <td>Not Tracked</td>\n",
       "      <td>2017</td>\n",
       "      <td>60155</td>\n",
       "    </tr>\n",
       "  </tbody>\n",
       "</table>\n",
       "<p>1000 rows × 6 columns</p>\n",
       "</div>"
      ],
      "text/plain": [
       "           game_name    month  total_ticket_sales total_ticket_sales_count  \\\n",
       "0              Lotto  January            680904.0                  169,005   \n",
       "1    Lucky Day Lotto  January            519490.0                  406,786   \n",
       "2     Mega Millions   January            623048.0                  149,777   \n",
       "3             Pick 3  January            117236.0                    7,565   \n",
       "4     Pick3 Fireball  January             59059.0                    3,801   \n",
       "..               ...      ...                 ...                      ...   \n",
       "995           Pick 4  January             94370.5                  128,838   \n",
       "996   Pick4 Fireball  January             32219.5                   45,066   \n",
       "997        Powerball  January             26680.0                    6,664   \n",
       "998         EZ Match  January              1133.0                    1,133   \n",
       "999   Instant Rollup  January            100650.0              Not Tracked   \n",
       "\n",
       "     year zip_code  \n",
       "0    2017   Online  \n",
       "1    2017   Online  \n",
       "2    2017   Online  \n",
       "3    2017   Online  \n",
       "4    2017   Online  \n",
       "..    ...      ...  \n",
       "995  2017    60154  \n",
       "996  2017    60154  \n",
       "997  2017    60154  \n",
       "998  2017    60155  \n",
       "999  2017    60155  \n",
       "\n",
       "[1000 rows x 6 columns]"
      ]
     },
     "execution_count": 3,
     "metadata": {},
     "output_type": "execute_result"
    }
   ],
   "source": [
    "data"
   ]
  },
  {
   "cell_type": "markdown",
   "id": "d2b4b92e",
   "metadata": {},
   "source": [
    "# Find the lowest zip code"
   ]
  },
  {
   "cell_type": "code",
   "execution_count": 4,
   "id": "a27f5d9b",
   "metadata": {},
   "outputs": [
    {
     "data": {
      "text/plain": [
       "0      Online\n",
       "1      Online\n",
       "2      Online\n",
       "3      Online\n",
       "4      Online\n",
       "        ...  \n",
       "995     60154\n",
       "996     60154\n",
       "997     60154\n",
       "998     60155\n",
       "999     60155\n",
       "Name: zip_code, Length: 1000, dtype: object"
      ]
     },
     "execution_count": 4,
     "metadata": {},
     "output_type": "execute_result"
    }
   ],
   "source": [
    "data[\"zip_code\"]"
   ]
  },
  {
   "cell_type": "code",
   "execution_count": 5,
   "id": "8411dd3a",
   "metadata": {},
   "outputs": [
    {
     "data": {
      "text/plain": [
       "'60002'"
      ]
     },
     "execution_count": 5,
     "metadata": {},
     "output_type": "execute_result"
    }
   ],
   "source": [
    "data[\"zip_code\"].min()"
   ]
  },
  {
   "cell_type": "markdown",
   "id": "a80f9f9c",
   "metadata": {},
   "source": [
    "# List all entries with a sales amount lower than 60000"
   ]
  },
  {
   "cell_type": "code",
   "execution_count": 6,
   "id": "9910e1b1",
   "metadata": {},
   "outputs": [
    {
     "data": {
      "text/plain": [
       "0      680904.0\n",
       "1      519490.0\n",
       "2      623048.0\n",
       "3      117236.0\n",
       "4       59059.0\n",
       "         ...   \n",
       "995     94370.5\n",
       "996     32219.5\n",
       "997     26680.0\n",
       "998      1133.0\n",
       "999    100650.0\n",
       "Name: total_ticket_sales, Length: 1000, dtype: float64"
      ]
     },
     "execution_count": 6,
     "metadata": {},
     "output_type": "execute_result"
    }
   ],
   "source": [
    "data[\"total_ticket_sales\"]"
   ]
  },
  {
   "cell_type": "code",
   "execution_count": 7,
   "id": "c92a59ff",
   "metadata": {},
   "outputs": [
    {
     "data": {
      "text/html": [
       "<div>\n",
       "<style scoped>\n",
       "    .dataframe tbody tr th:only-of-type {\n",
       "        vertical-align: middle;\n",
       "    }\n",
       "\n",
       "    .dataframe tbody tr th {\n",
       "        vertical-align: top;\n",
       "    }\n",
       "\n",
       "    .dataframe thead th {\n",
       "        text-align: right;\n",
       "    }\n",
       "</style>\n",
       "<table border=\"1\" class=\"dataframe\">\n",
       "  <thead>\n",
       "    <tr style=\"text-align: right;\">\n",
       "      <th></th>\n",
       "      <th>game_name</th>\n",
       "      <th>month</th>\n",
       "      <th>total_ticket_sales</th>\n",
       "      <th>total_ticket_sales_count</th>\n",
       "      <th>year</th>\n",
       "      <th>zip_code</th>\n",
       "    </tr>\n",
       "  </thead>\n",
       "  <tbody>\n",
       "    <tr>\n",
       "      <th>4</th>\n",
       "      <td>Pick3 Fireball</td>\n",
       "      <td>January</td>\n",
       "      <td>59059.0</td>\n",
       "      <td>3,801</td>\n",
       "      <td>2017</td>\n",
       "      <td>Online</td>\n",
       "    </tr>\n",
       "    <tr>\n",
       "      <th>8</th>\n",
       "      <td>EZ Match</td>\n",
       "      <td>January</td>\n",
       "      <td>3344.0</td>\n",
       "      <td>3,344</td>\n",
       "      <td>2017</td>\n",
       "      <td>60002</td>\n",
       "    </tr>\n",
       "    <tr>\n",
       "      <th>10</th>\n",
       "      <td>Lotto</td>\n",
       "      <td>January</td>\n",
       "      <td>22696.0</td>\n",
       "      <td>6,883</td>\n",
       "      <td>2017</td>\n",
       "      <td>60002</td>\n",
       "    </tr>\n",
       "    <tr>\n",
       "      <th>11</th>\n",
       "      <td>Lucky Day Lotto</td>\n",
       "      <td>January</td>\n",
       "      <td>27941.0</td>\n",
       "      <td>11,913</td>\n",
       "      <td>2017</td>\n",
       "      <td>60002</td>\n",
       "    </tr>\n",
       "    <tr>\n",
       "      <th>12</th>\n",
       "      <td>Mega Millions</td>\n",
       "      <td>January</td>\n",
       "      <td>21131.0</td>\n",
       "      <td>7,693</td>\n",
       "      <td>2017</td>\n",
       "      <td>60002</td>\n",
       "    </tr>\n",
       "    <tr>\n",
       "      <th>...</th>\n",
       "      <td>...</td>\n",
       "      <td>...</td>\n",
       "      <td>...</td>\n",
       "      <td>...</td>\n",
       "      <td>...</td>\n",
       "      <td>...</td>\n",
       "    </tr>\n",
       "    <tr>\n",
       "      <th>992</th>\n",
       "      <td>Mega Millions</td>\n",
       "      <td>January</td>\n",
       "      <td>27513.0</td>\n",
       "      <td>9,271</td>\n",
       "      <td>2017</td>\n",
       "      <td>60154</td>\n",
       "    </tr>\n",
       "    <tr>\n",
       "      <th>994</th>\n",
       "      <td>Pick3 Fireball</td>\n",
       "      <td>January</td>\n",
       "      <td>21003.0</td>\n",
       "      <td>25,662</td>\n",
       "      <td>2017</td>\n",
       "      <td>60154</td>\n",
       "    </tr>\n",
       "    <tr>\n",
       "      <th>996</th>\n",
       "      <td>Pick4 Fireball</td>\n",
       "      <td>January</td>\n",
       "      <td>32219.5</td>\n",
       "      <td>45,066</td>\n",
       "      <td>2017</td>\n",
       "      <td>60154</td>\n",
       "    </tr>\n",
       "    <tr>\n",
       "      <th>997</th>\n",
       "      <td>Powerball</td>\n",
       "      <td>January</td>\n",
       "      <td>26680.0</td>\n",
       "      <td>6,664</td>\n",
       "      <td>2017</td>\n",
       "      <td>60154</td>\n",
       "    </tr>\n",
       "    <tr>\n",
       "      <th>998</th>\n",
       "      <td>EZ Match</td>\n",
       "      <td>January</td>\n",
       "      <td>1133.0</td>\n",
       "      <td>1,133</td>\n",
       "      <td>2017</td>\n",
       "      <td>60155</td>\n",
       "    </tr>\n",
       "  </tbody>\n",
       "</table>\n",
       "<p>897 rows × 6 columns</p>\n",
       "</div>"
      ],
      "text/plain": [
       "           game_name    month  total_ticket_sales total_ticket_sales_count  \\\n",
       "4     Pick3 Fireball  January             59059.0                    3,801   \n",
       "8           EZ Match  January              3344.0                    3,344   \n",
       "10             Lotto  January             22696.0                    6,883   \n",
       "11   Lucky Day Lotto  January             27941.0                   11,913   \n",
       "12    Mega Millions   January             21131.0                    7,693   \n",
       "..               ...      ...                 ...                      ...   \n",
       "992   Mega Millions   January             27513.0                    9,271   \n",
       "994   Pick3 Fireball  January             21003.0                   25,662   \n",
       "996   Pick4 Fireball  January             32219.5                   45,066   \n",
       "997        Powerball  January             26680.0                    6,664   \n",
       "998         EZ Match  January              1133.0                    1,133   \n",
       "\n",
       "     year zip_code  \n",
       "4    2017   Online  \n",
       "8    2017    60002  \n",
       "10   2017    60002  \n",
       "11   2017    60002  \n",
       "12   2017    60002  \n",
       "..    ...      ...  \n",
       "992  2017    60154  \n",
       "994  2017    60154  \n",
       "996  2017    60154  \n",
       "997  2017    60154  \n",
       "998  2017    60155  \n",
       "\n",
       "[897 rows x 6 columns]"
      ]
     },
     "execution_count": 7,
     "metadata": {},
     "output_type": "execute_result"
    }
   ],
   "source": [
    "data.loc[data[\"total_ticket_sales\"] < 60000]"
   ]
  },
  {
   "cell_type": "markdown",
   "id": "48e39b49",
   "metadata": {},
   "source": [
    "# Decide upon a visualization to show the sales amounts and their corresponding zip codes for first 20 entries in the file\n",
    "Use any style aside from the default style\n",
    "Use any color(s) aside from the default color"
   ]
  },
  {
   "cell_type": "code",
   "execution_count": 8,
   "id": "0e3bf0b6",
   "metadata": {},
   "outputs": [
    {
     "data": {
      "text/plain": [
       "0     680904.0\n",
       "1     519490.0\n",
       "2     623048.0\n",
       "3     117236.0\n",
       "4      59059.0\n",
       "5     145418.0\n",
       "6      80696.0\n",
       "7     680088.0\n",
       "8       3344.0\n",
       "9     364200.0\n",
       "10     22696.0\n",
       "11     27941.0\n",
       "12     21131.0\n",
       "13     21482.5\n",
       "14      4899.5\n",
       "15      9218.0\n",
       "16      3398.0\n",
       "17     22431.0\n",
       "18      2847.0\n",
       "19    335550.0\n",
       "Name: total_ticket_sales, dtype: float64"
      ]
     },
     "execution_count": 8,
     "metadata": {},
     "output_type": "execute_result"
    }
   ],
   "source": [
    "x1 =data.iloc[0:20][\"total_ticket_sales\"]\n",
    "x1"
   ]
  },
  {
   "cell_type": "code",
   "execution_count": 9,
   "id": "5bb36de1",
   "metadata": {},
   "outputs": [
    {
     "data": {
      "text/plain": [
       "0     Online\n",
       "1     Online\n",
       "2     Online\n",
       "3     Online\n",
       "4     Online\n",
       "5     Online\n",
       "6     Online\n",
       "7     Online\n",
       "8      60002\n",
       "9      60002\n",
       "10     60002\n",
       "11     60002\n",
       "12     60002\n",
       "13     60002\n",
       "14     60002\n",
       "15     60002\n",
       "16     60002\n",
       "17     60002\n",
       "18     60004\n",
       "19     60004\n",
       "Name: zip_code, dtype: object"
      ]
     },
     "execution_count": 9,
     "metadata": {},
     "output_type": "execute_result"
    }
   ],
   "source": [
    "y1 =data.iloc[0:20][\"zip_code\"]\n",
    "y1"
   ]
  },
  {
   "cell_type": "code",
   "execution_count": 10,
   "id": "d2ca332a",
   "metadata": {},
   "outputs": [
    {
     "data": {
      "text/plain": [
       "zip_code\n",
       "60002      500741.0\n",
       "60004      491127.0\n",
       "60005      617600.0\n",
       "60007     1056237.0\n",
       "60008      537333.0\n",
       "            ...    \n",
       "60152      170103.5\n",
       "60153      558249.0\n",
       "60154      850911.0\n",
       "60155      101783.0\n",
       "Online    2905939.0\n",
       "Name: total_ticket_sales, Length: 101, dtype: float64"
      ]
     },
     "execution_count": 10,
     "metadata": {},
     "output_type": "execute_result"
    }
   ],
   "source": [
    "data.groupby(\"zip_code\")[\"total_ticket_sales\"].sum()"
   ]
  },
  {
   "cell_type": "code",
   "execution_count": 11,
   "id": "56f89107",
   "metadata": {},
   "outputs": [],
   "source": [
    "aggregated_data = data.iloc[0:20].groupby(\"zip_code\")[\"total_ticket_sales\"].sum() "
   ]
  },
  {
   "cell_type": "code",
   "execution_count": 12,
   "id": "ddfc7fed",
   "metadata": {},
   "outputs": [
    {
     "data": {
      "text/plain": [
       "pandas.core.series.Series"
      ]
     },
     "execution_count": 12,
     "metadata": {},
     "output_type": "execute_result"
    }
   ],
   "source": [
    "type(aggregated_data)"
   ]
  },
  {
   "cell_type": "code",
   "execution_count": 13,
   "id": "c66268fd",
   "metadata": {},
   "outputs": [
    {
     "data": {
      "text/plain": [
       "Index(['60002', '60004', 'Online'], dtype='object', name='zip_code')"
      ]
     },
     "execution_count": 13,
     "metadata": {},
     "output_type": "execute_result"
    }
   ],
   "source": [
    "zipcode = aggregated_data.index \n",
    "zipcode"
   ]
  },
  {
   "cell_type": "code",
   "execution_count": 14,
   "id": "4a27b3f2",
   "metadata": {},
   "outputs": [
    {
     "data": {
      "text/plain": [
       "array([ 500741.,  338397., 2905939.])"
      ]
     },
     "execution_count": 14,
     "metadata": {},
     "output_type": "execute_result"
    }
   ],
   "source": [
    "agg_total_ticket_sales= aggregated_data.values\n",
    "agg_total_ticket_sales"
   ]
  },
  {
   "cell_type": "code",
   "execution_count": 15,
   "id": "bef02b74",
   "metadata": {},
   "outputs": [
    {
     "data": {
      "text/plain": [
       "[<matplotlib.lines.Line2D at 0x1bbfad95970>]"
      ]
     },
     "execution_count": 15,
     "metadata": {},
     "output_type": "execute_result"
    },
    {
     "data": {
      "image/png": "[encoded data removed]",
      "text/plain": [
       "<Figure size 432x288 with 1 Axes>"
      ]
     },
     "metadata": {
      "needs_background": "light"
     },
     "output_type": "display_data"
    }
   ],
   "source": [
    "plt.plot(aggregated_data.index, aggregated_data.values)"
   ]
  },
  {
   "cell_type": "code",
   "execution_count": 16,
   "id": "7dbc72b6",
   "metadata": {},
   "outputs": [
    {
     "data": {
      "text/plain": [
       "<AxesSubplot:xlabel='zip_code'>"
      ]
     },
     "execution_count": 16,
     "metadata": {},
     "output_type": "execute_result"
    },
    {
     "data": {
      "image/png": "[encoded data removed]",
      "text/plain": [
       "<Figure size 432x288 with 1 Axes>"
      ]
     },
     "metadata": {
      "needs_background": "light"
     },
     "output_type": "display_data"
    }
   ],
   "source": [
    "aggregated_data = data.iloc[0:20].groupby(\"zip_code\")[\"total_ticket_sales\"].sum() \n",
    "aggregated_data.plot()"
   ]
  },
  {
   "cell_type": "code",
   "execution_count": 17,
   "id": "47d2e9b0",
   "metadata": {},
   "outputs": [
    {
     "data": {
      "image/png": "[encoded data removed]",
      "text/plain": [
       "<Figure size 720x360 with 1 Axes>"
      ]
     },
     "metadata": {
      "needs_background": "light"
     },
     "output_type": "display_data"
    }
   ],
   "source": [
    "fig, ax = plt.subplots(figsize=(10,5))\n",
    "\n",
    "ax.plot(aggregated_data, marker='*', linewidth = 2.0)\n",
    "ax.set_xlabel(\"zip_code\")\n",
    "ax.set_ylabel(\"total_ticket_sales\")\n",
    "\n",
    "ax.set_yscale(\"linear\")\n",
    "\n",
    "plt.show()"
   ]
  },
  {
   "cell_type": "code",
   "execution_count": 18,
   "id": "eed4a89b",
   "metadata": {},
   "outputs": [
    {
     "name": "stdout",
     "output_type": "stream",
     "text": [
      "Requirement already satisfied: ipywidgets in c:\\users\\asus\\anaconda3\\lib\\site-packages (7.6.5)\n",
      "Requirement already satisfied: ipykernel>=4.5.1 in c:\\users\\asus\\anaconda3\\lib\\site-packages (from ipywidgets) (6.4.1)\n",
      "Requirement already satisfied: ipython>=4.0.0 in c:\\users\\asus\\anaconda3\\lib\\site-packages (from ipywidgets) (7.29.0)\n",
      "Requirement already satisfied: jupyterlab-widgets>=1.0.0 in c:\\users\\asus\\anaconda3\\lib\\site-packages (from ipywidgets) (1.0.0)\n",
      "Requirement already satisfied: ipython-genutils~=0.2.0 in c:\\users\\asus\\anaconda3\\lib\\site-packages (from ipywidgets) (0.2.0)\n",
      "Requirement already satisfied: nbformat>=4.2.0 in c:\\users\\asus\\anaconda3\\lib\\site-packages (from ipywidgets) (5.1.3)\n",
      "Requirement already satisfied: widgetsnbextension~=3.5.0 in c:\\users\\asus\\anaconda3\\lib\\site-packages (from ipywidgets) (3.5.1)\n",
      "Requirement already satisfied: traitlets>=4.3.1 in c:\\users\\asus\\anaconda3\\lib\\site-packages (from ipywidgets) (5.1.1)\n",
      "Requirement already satisfied: jupyter-client<8.0 in c:\\users\\asus\\anaconda3\\lib\\site-packages (from ipykernel>=4.5.1->ipywidgets) (6.1.12)\n",
      "Requirement already satisfied: matplotlib-inline<0.2.0,>=0.1.0 in c:\\users\\asus\\anaconda3\\lib\\site-packages (from ipykernel>=4.5.1->ipywidgets) (0.1.2)\n",
      "Requirement already satisfied: debugpy<2.0,>=1.0.0 in c:\\users\\asus\\anaconda3\\lib\\site-packages (from ipykernel>=4.5.1->ipywidgets) (1.5.1)\n",
      "Requirement already satisfied: tornado<7.0,>=4.2 in c:\\users\\asus\\anaconda3\\lib\\site-packages (from ipykernel>=4.5.1->ipywidgets) (6.1)\n",
      "Requirement already satisfied: backcall in c:\\users\\asus\\anaconda3\\lib\\site-packages (from ipython>=4.0.0->ipywidgets) (0.2.0)\n",
      "Requirement already satisfied: pygments in c:\\users\\asus\\anaconda3\\lib\\site-packages (from ipython>=4.0.0->ipywidgets) (2.10.0)\n",
      "Requirement already satisfied: decorator in c:\\users\\asus\\anaconda3\\lib\\site-packages (from ipython>=4.0.0->ipywidgets) (5.1.0)\n",
      "Requirement already satisfied: setuptools>=18.5 in c:\\users\\asus\\anaconda3\\lib\\site-packages (from ipython>=4.0.0->ipywidgets) (58.0.4)\n",
      "Requirement already satisfied: pickleshare in c:\\users\\asus\\anaconda3\\lib\\site-packages (from ipython>=4.0.0->ipywidgets) (0.7.5)\n",
      "Requirement already satisfied: prompt-toolkit!=3.0.0,!=3.0.1,<3.1.0,>=2.0.0 in c:\\users\\asus\\anaconda3\\lib\\site-packages (from ipython>=4.0.0->ipywidgets) (3.0.20)\n",
      "Requirement already satisfied: jedi>=0.16 in c:\\users\\asus\\anaconda3\\lib\\site-packages (from ipython>=4.0.0->ipywidgets) (0.18.0)\n",
      "Requirement already satisfied: colorama in c:\\users\\asus\\anaconda3\\lib\\site-packages (from ipython>=4.0.0->ipywidgets) (0.4.4)\n",
      "Requirement already satisfied: parso<0.9.0,>=0.8.0 in c:\\users\\asus\\anaconda3\\lib\\site-packages (from jedi>=0.16->ipython>=4.0.0->ipywidgets) (0.8.3)\n",
      "Requirement already satisfied: python-dateutil>=2.1 in c:\\users\\asus\\anaconda3\\lib\\site-packages (from jupyter-client<8.0->ipykernel>=4.5.1->ipywidgets) (2.8.2)\n",
      "Requirement already satisfied: jupyter-core>=4.6.0 in c:\\users\\asus\\anaconda3\\lib\\site-packages (from jupyter-client<8.0->ipykernel>=4.5.1->ipywidgets) (4.9.1)\n",
      "Requirement already satisfied: pyzmq>=13 in c:\\users\\asus\\anaconda3\\lib\\site-packages (from jupyter-client<8.0->ipykernel>=4.5.1->ipywidgets) (22.3.0)\n",
      "Requirement already satisfied: pywin32>=1.0 in c:\\users\\asus\\anaconda3\\lib\\site-packages (from jupyter-core>=4.6.0->jupyter-client<8.0->ipykernel>=4.5.1->ipywidgets) (302)\n",
      "Requirement already satisfied: jsonschema!=2.5.0,>=2.4 in c:\\users\\asus\\anaconda3\\lib\\site-packages (from nbformat>=4.2.0->ipywidgets) (3.2.0)\n",
      "Requirement already satisfied: attrs>=17.4.0 in c:\\users\\asus\\anaconda3\\lib\\site-packages (from jsonschema!=2.5.0,>=2.4->nbformat>=4.2.0->ipywidgets) (21.4.0)\n",
      "Requirement already satisfied: six>=1.11.0 in c:\\users\\asus\\anaconda3\\lib\\site-packages (from jsonschema!=2.5.0,>=2.4->nbformat>=4.2.0->ipywidgets) (1.16.0)\n",
      "Requirement already satisfied: pyrsistent>=0.14.0 in c:\\users\\asus\\anaconda3\\lib\\site-packages (from jsonschema!=2.5.0,>=2.4->nbformat>=4.2.0->ipywidgets) (0.18.0)\n",
      "Requirement already satisfied: wcwidth in c:\\users\\asus\\anaconda3\\lib\\site-packages (from prompt-toolkit!=3.0.0,!=3.0.1,<3.1.0,>=2.0.0->ipython>=4.0.0->ipywidgets) (0.2.5)\n",
      "Requirement already satisfied: notebook>=4.4.1 in c:\\users\\asus\\anaconda3\\lib\\site-packages (from widgetsnbextension~=3.5.0->ipywidgets) (6.4.6)\n",
      "Requirement already satisfied: nbconvert in c:\\users\\asus\\anaconda3\\lib\\site-packages (from notebook>=4.4.1->widgetsnbextension~=3.5.0->ipywidgets) (6.1.0)\n",
      "Requirement already satisfied: terminado>=0.8.3 in c:\\users\\asus\\anaconda3\\lib\\site-packages (from notebook>=4.4.1->widgetsnbextension~=3.5.0->ipywidgets) (0.9.4)\n",
      "Requirement already satisfied: Send2Trash>=1.8.0 in c:\\users\\asus\\anaconda3\\lib\\site-packages (from notebook>=4.4.1->widgetsnbextension~=3.5.0->ipywidgets) (1.8.0)\n",
      "Requirement already satisfied: argon2-cffi in c:\\users\\asus\\anaconda3\\lib\\site-packages (from notebook>=4.4.1->widgetsnbextension~=3.5.0->ipywidgets) (20.1.0)\n",
      "Requirement already satisfied: nest-asyncio>=1.5 in c:\\users\\asus\\anaconda3\\lib\\site-packages (from notebook>=4.4.1->widgetsnbextension~=3.5.0->ipywidgets) (1.5.1)\n",
      "Requirement already satisfied: jinja2 in c:\\users\\asus\\anaconda3\\lib\\site-packages (from notebook>=4.4.1->widgetsnbextension~=3.5.0->ipywidgets) (2.11.3)\n",
      "Requirement already satisfied: prometheus-client in c:\\users\\asus\\anaconda3\\lib\\site-packages (from notebook>=4.4.1->widgetsnbextension~=3.5.0->ipywidgets) (0.12.0)\n",
      "Requirement already satisfied: pywinpty>=0.5 in c:\\users\\asus\\anaconda3\\lib\\site-packages (from terminado>=0.8.3->notebook>=4.4.1->widgetsnbextension~=3.5.0->ipywidgets) (0.5.7)\n",
      "Requirement already satisfied: cffi>=1.0.0 in c:\\users\\asus\\anaconda3\\lib\\site-packages (from argon2-cffi->notebook>=4.4.1->widgetsnbextension~=3.5.0->ipywidgets) (1.15.0)\n",
      "Requirement already satisfied: pycparser in c:\\users\\asus\\anaconda3\\lib\\site-packages (from cffi>=1.0.0->argon2-cffi->notebook>=4.4.1->widgetsnbextension~=3.5.0->ipywidgets) (2.21)\n",
      "Requirement already satisfied: MarkupSafe>=0.23 in c:\\users\\asus\\anaconda3\\lib\\site-packages (from jinja2->notebook>=4.4.1->widgetsnbextension~=3.5.0->ipywidgets) (1.1.1)\n",
      "Requirement already satisfied: bleach in c:\\users\\asus\\anaconda3\\lib\\site-packages (from nbconvert->notebook>=4.4.1->widgetsnbextension~=3.5.0->ipywidgets) (4.1.0)\n",
      "Requirement already satisfied: nbclient<0.6.0,>=0.5.0 in c:\\users\\asus\\anaconda3\\lib\\site-packages (from nbconvert->notebook>=4.4.1->widgetsnbextension~=3.5.0->ipywidgets) (0.5.3)\n",
      "Requirement already satisfied: mistune<2,>=0.8.1 in c:\\users\\asus\\anaconda3\\lib\\site-packages (from nbconvert->notebook>=4.4.1->widgetsnbextension~=3.5.0->ipywidgets) (0.8.4)\n",
      "Requirement already satisfied: testpath in c:\\users\\asus\\anaconda3\\lib\\site-packages (from nbconvert->notebook>=4.4.1->widgetsnbextension~=3.5.0->ipywidgets) (0.5.0)\n",
      "Requirement already satisfied: jupyterlab-pygments in c:\\users\\asus\\anaconda3\\lib\\site-packages (from nbconvert->notebook>=4.4.1->widgetsnbextension~=3.5.0->ipywidgets) (0.1.2)\n",
      "Requirement already satisfied: entrypoints>=0.2.2 in c:\\users\\asus\\anaconda3\\lib\\site-packages (from nbconvert->notebook>=4.4.1->widgetsnbextension~=3.5.0->ipywidgets) (0.3)\n",
      "Requirement already satisfied: defusedxml in c:\\users\\asus\\anaconda3\\lib\\site-packages (from nbconvert->notebook>=4.4.1->widgetsnbextension~=3.5.0->ipywidgets) (0.7.1)\n",
      "Requirement already satisfied: pandocfilters>=1.4.1 in c:\\users\\asus\\anaconda3\\lib\\site-packages (from nbconvert->notebook>=4.4.1->widgetsnbextension~=3.5.0->ipywidgets) (1.4.3)\n",
      "Requirement already satisfied: async-generator in c:\\users\\asus\\anaconda3\\lib\\site-packages (from nbclient<0.6.0,>=0.5.0->nbconvert->notebook>=4.4.1->widgetsnbextension~=3.5.0->ipywidgets) (1.10)\n",
      "Requirement already satisfied: packaging in c:\\users\\asus\\anaconda3\\lib\\site-packages (from bleach->nbconvert->notebook>=4.4.1->widgetsnbextension~=3.5.0->ipywidgets) (21.3)\n",
      "Requirement already satisfied: webencodings in c:\\users\\asus\\anaconda3\\lib\\site-packages (from bleach->nbconvert->notebook>=4.4.1->widgetsnbextension~=3.5.0->ipywidgets) (0.5.1)\n",
      "Requirement already satisfied: pyparsing!=3.0.5,>=2.0.2 in c:\\users\\asus\\anaconda3\\lib\\site-packages (from packaging->bleach->nbconvert->notebook>=4.4.1->widgetsnbextension~=3.5.0->ipywidgets) (3.0.4)\n",
      "Note: you may need to restart the kernel to use updated packages.\n"
     ]
    }
   ],
   "source": [
    "%pip install ipywidgets\n",
    "import ipywidgets"
   ]
  },
  {
   "cell_type": "code",
   "execution_count": 19,
   "id": "958e49c7",
   "metadata": {},
   "outputs": [
    {
     "data": {
      "image/png": "[encoded data removed]",
      "text/plain": [
       "<Figure size 800x400 with 1 Axes>"
      ]
     },
     "metadata": {},
     "output_type": "display_data"
    }
   ],
   "source": [
    "with plt.style.context('classic'):\n",
    "    \n",
    "        fig, ax = plt.subplots(figsize=(10,5))\n",
    "\n",
    "        ax.plot(aggregated_data, marker='*', linewidth = 2.0, label = \"Total_ticket_sales\")\n",
    "        ax.set_xlabel(\"zip_code\")\n",
    "        ax.set_ylabel(\"total_ticket_sales\")\n",
    "        ax.set_title(\"Total Ticket Sales by Zipcode \\n\")\n",
    "        ax.set_yscale(\"linear\")\n",
    "        ax.legend()\n",
    "        plt.show()\n",
    "    "
   ]
  },
  {
   "cell_type": "code",
   "execution_count": 24,
   "id": "afd43e5c",
   "metadata": {},
   "outputs": [
    {
     "data": {
      "image/png": "[encoded data removed]",
      "text/plain": [
       "<Figure size 720x360 with 1 Axes>"
      ]
     },
     "metadata": {},
     "output_type": "display_data"
    }
   ],
   "source": [
    "   with plt.style.context('ggplot'):\n",
    "    \n",
    "        fig, ax = plt.subplots(figsize=(10,5))\n",
    "\n",
    "        ax.bar(zipcode, agg_total_ticket_sales)\n",
    "        ax.set_xlabel(\"zip_code\")\n",
    "        ax.set_ylabel(\"total_ticket_sales\")\n",
    "        ax.set_title('Total Ticket Sales by Zipcode')\n",
    "        ax.set_yscale('linear') \n",
    "        plt.show()"
   ]
  },
  {
   "cell_type": "code",
   "execution_count": 21,
   "id": "855f376f",
   "metadata": {},
   "outputs": [
    {
     "data": {
      "image/png": "[encoded data removed]",
      "text/plain": [
       "<Figure size 360x360 with 1 Axes>"
      ]
     },
     "metadata": {},
     "output_type": "display_data"
    }
   ],
   "source": [
    "labels = '60002', '60004', 'Online'\n",
    "explode = (0.1, 0.1, 0.1)\n",
    "\n",
    "with plt.style.context('seaborn-colorblind'):\n",
    "    \n",
    "        fig, ax = plt.subplots(figsize=(5,5))\n",
    "\n",
    "        ax.pie(aggregated_data,explode = explode,\n",
    "        labels = labels, autopct ='% 1.1f %%',\n",
    "        shadow = True, startangle = 90)\n",
    "        ax.set_ylabel(\"total_ticket_sales\")\n",
    "        ax.set_title('Total Ticket Sales by Zipcode')\n",
    "        ax.axis('equal')\n",
    "        ax.legend()\n",
    "        plt.savefig(\"Total_Ticket_Sales_by_Zipcode1.png\", bbox_inches='tight')\n",
    "                    \n",
    "        plt.show()\n",
    "        "
   ]
  },
  {
   "cell_type": "code",
   "execution_count": 22,
   "id": "b64641e4",
   "metadata": {},
   "outputs": [
    {
     "data": {
      "image/png": "[encoded data removed]",
      "text/plain": [
       "<Figure size 360x360 with 1 Axes>"
      ]
     },
     "metadata": {},
     "output_type": "display_data"
    }
   ],
   "source": [
    "labels = '60002', '60004', 'Online'\n",
    "explode = (0.1, 0.1, 0.1)\n",
    "colors = ['#99ff99','#ff9999','#ffcc99']\n",
    "fig, ax = plt.subplots(figsize=(5,5))\n",
    "\n",
    "ax.pie(aggregated_data,explode = explode,\n",
    "labels = labels, colors = colors, autopct ='% 1.1f %%',\n",
    "shadow = True, startangle = 90)\n",
    "ax.set_ylabel(\"total_ticket_sales\")\n",
    "ax.set_title('Total Ticket Sales by Zipcode')\n",
    "ax.axis('equal')\n",
    "ax.legend()\n",
    "plt.savefig(\"Total_Ticket_Sales_by_Zipcode2.png\", bbox_inches='tight')\n",
    "                    \n",
    "plt.show()\n",
    "        "
   ]
  },
  {
   "cell_type": "code",
   "execution_count": null,
   "id": "e4fa5f7a",
   "metadata": {},
   "outputs": [],
   "source": [
    "\n",
    "    "
   ]
  },
  {
   "cell_type": "code",
   "execution_count": null,
   "id": "d2072371",
   "metadata": {},
   "outputs": [],
   "source": []
  },
  {
   "cell_type": "code",
   "execution_count": null,
   "id": "bcdbffbe",
   "metadata": {},
   "outputs": [],
   "source": []
  },
  {
   "cell_type": "code",
   "execution_count": null,
   "id": "defb7738",
   "metadata": {},
   "outputs": [],
   "source": []
  },
  {
   "cell_type": "code",
   "execution_count": null,
   "id": "aca65beb",
   "metadata": {},
   "outputs": [],
   "source": []
  },
  {
   "cell_type": "code",
   "execution_count": null,
   "id": "94bac4e2",
   "metadata": {},
   "outputs": [],
   "source": []
  }
 ],
 "metadata": {
  "kernelspec": {
   "display_name": "Python 3 (ipykernel)",
   "language": "python",
   "name": "python3"
  },
  "language_info": {
   "codemirror_mode": {
    "name": "ipython",
    "version": 3
   },
   "file_extension": ".py",
   "mimetype": "text/x-python",
   "name": "python",
   "nbconvert_exporter": "python",
   "pygments_lexer": "ipython3",
   "version": "3.9.7"
  }
 },
 "nbformat": 4,
 "nbformat_minor": 5
}
